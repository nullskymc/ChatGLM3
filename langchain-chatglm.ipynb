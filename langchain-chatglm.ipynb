{
 "cells": [
  {
   "cell_type": "markdown",
   "id": "a9ea0d3f",
   "metadata": {},
   "source": [
    "## ChatGLM For RAG"
   ]
  },
  {
   "cell_type": "code",
   "execution_count": null,
   "id": "aaffe459-036d-482f-8764-849ce9da7aa1",
   "metadata": {
    "ExecutionIndicator": {
     "show": true
    },
    "execution": {
     "iopub.execute_input": "2024-04-24T11:59:43.679141Z",
     "iopub.status.busy": "2024-04-24T11:59:43.678768Z",
     "iopub.status.idle": "2024-04-24T11:59:47.480970Z",
     "shell.execute_reply": "2024-04-24T11:59:47.480310Z",
     "shell.execute_reply.started": "2024-04-24T11:59:43.679120Z"
    },
    "tags": []
   },
   "outputs": [],
   "source": [
    "!git clone https://github.com/THUDM/ChatGLM3.git"
   ]
  },
  {
   "cell_type": "code",
   "execution_count": null,
   "id": "09c2ef4a",
   "metadata": {},
   "outputs": [],
   "source": [
    "!pip innstall modelscope\n",
    "\n",
    "from modelscope import snapshot_download\n",
    "model_dir = snapshot_download(\"ZhipuAI/chatglm3-6b\", revision = \"v1.0.0\")"
   ]
  },
  {
   "cell_type": "code",
   "execution_count": null,
   "id": "ec30803c-bbbc-4833-a2a0-281a2b807be1",
   "metadata": {
    "ExecutionIndicator": {
     "show": true
    },
    "tags": []
   },
   "outputs": [],
   "source": [
    "!pip install -r ./ChatGLM3/requirements.txt "
   ]
  },
  {
   "cell_type": "code",
   "execution_count": null,
   "id": "f5e0f464-b3f8-4247-8278-a2cef488c7f0",
   "metadata": {
    "ExecutionIndicator": {
     "show": true
    },
    "execution": {
     "iopub.execute_input": "2024-04-24T12:21:20.544947Z",
     "iopub.status.busy": "2024-04-24T12:21:20.544624Z"
    },
    "tags": []
   },
   "outputs": [],
   "source": [
    "!python ./ChatGLM3/openai_api_demo/api_server.py"
   ]
  },
  {
   "cell_type": "code",
   "execution_count": null,
   "id": "8c802180",
   "metadata": {},
   "outputs": [],
   "source": [
    "from langchain.chains import LLMChain\n",
    "from langchain.schema.messages import AIMessage\n",
    "from langchain_community.llms.chatglm3 import ChatGLM3\n",
    "from langchain_community.embeddings import ModelScopeEmbeddings\n",
    "from langchain_core.prompts import PromptTemplate"
   ]
  },
  {
   "cell_type": "code",
   "execution_count": null,
   "id": "3480e0a1",
   "metadata": {},
   "outputs": [],
   "source": [
    "endpoint_url = \"http://0.0.0.0:8000/v1/chat/completions\"\n",
    "llm = ChatGLM3(\n",
    "    endpoint_url=endpoint_url,\n",
    "    max_tokens=80000,\n",
    "    prefix_messages=messages,\n",
    "    top_p=0.9,\n",
    ")\n",
    "\n",
    "model_id = \"Jerry0/m3e-base\"\n",
    "embeddings = ModelScopeEmbeddings(model_id=model_id)\n",
    "\n",
    "template = \"\"\"{question}\"\"\"\n",
    "prompt = PromptTemplate.from_template(template)"
   ]
  },
  {
   "cell_type": "code",
   "execution_count": null,
   "id": "cc773735",
   "metadata": {},
   "outputs": [],
   "source": []
  }
 ],
 "metadata": {
  "kernelspec": {
   "display_name": "Python 3 (ipykernel)",
   "language": "python",
   "name": "python3"
  },
  "language_info": {
   "codemirror_mode": {
    "name": "ipython",
    "version": 3
   },
   "file_extension": ".py",
   "mimetype": "text/x-python",
   "name": "python",
   "nbconvert_exporter": "python",
   "pygments_lexer": "ipython3",
   "version": "3.10.13"
  }
 },
 "nbformat": 4,
 "nbformat_minor": 5
}
